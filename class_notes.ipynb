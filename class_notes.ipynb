{
 "cells": [
  {
   "cell_type": "markdown",
   "metadata": {
    "editable": true,
    "slideshow": {
     "slide_type": ""
    },
    "tags": []
   },
   "source": [
    "# Basic Backend CRUD Interface \n",
    "## Purpose\n",
    "All Index and Data Link objects need to implement this\n",
    "\n",
    "## Attributtes\n",
    "- uri - File path, DB Url, etc\n",
    "- name - Collection Name (optional)\n",
    "\n",
    "## Interface\n",
    "- make(**data) - a completely new collection/index/db, difficult to abstract\n",
    "  - input: data dictionary?\n",
    "  - output: None\n",
    "- remake() - recreates the collection, difficult to abstract\n",
    "  - input: None\n",
    "  - output: None? new URI?\n",
    "- unmake() - removes the collection\n",
    "  - input: None (uses uri)\n",
    "  - outut: None? \n",
    "- add({field:value}, id) - add an object/row into the collection\n",
    "  - input: dictionary with values, logical ID\n",
    "  - output: ??\n",
    "- get({field:value}) - get row/record object by the field and value, can be used to search by ID\n",
    "  - input: dict with Key-Value Pair\n",
    "  - output: list of dicts with found data\n",
    "- get_all() - get the full collection (testing only?)\n",
    "  - input: None, uses URI\n",
    "  - output: full collection in dict/list?\n",
    "- find(str) - Used by vector databases for similarity. Simulates/approximates behavior in other types?\n",
    "  - input: String with text\n",
    "  - output: list of results as dicts\n",
    "- update(id, {field:value}) - updates an object\n",
    "  - input: dict with keys, logical ID\n",
    "  - output: None? dict wtih updated row data? False on error? Raise on error?\n",
    "- delete(id) - removes an object\n",
    "  - input: str/int with ID\n",
    "  - output: dict with deleted row, raise when nonexistent?\n",
    "- delete_all() - removes all objects, results with an empty collection\n",
    "  - input: None\n",
    "  - output: True, on success\n",
    "\n",
    "All data returned are in dicts of built-in types, usually Dictionaries"
   ]
  },
  {
   "cell_type": "markdown",
   "metadata": {
    "editable": true,
    "slideshow": {
     "slide_type": ""
    },
    "tags": []
   },
   "source": [
    "# Data Storage Object\n",
    "## Purpose\n",
    "Load/Save/Store for the raw data from the Storage, uses parameters found in Data Storage Index, only processes real raw data\n",
    "\n",
    "## Attributes\n",
    "\n",
    "- raw_data - bytes object, loaded from file, or data to save\n",
    "- uri\n",
    "- id/hash\n",
    "- save/load methods\n",
    "\n",
    "## Interface(leave alone for now?)\n",
    "- load (id, load_method, ARGS) - main wrapper/interface\n",
    "- load_METHOD (id, ARGS) - lower level concrete methods\n",
    "- save(save_method, ARGS) main wrapper, uses object attributes when possible\n",
    "- save_METHOD(ARGS) - lower level concrete methods\n",
    "\n",
    "## Classes\n",
    "DataStorageObject - single concrete class\n",
    "\n",
    "\n"
   ]
  },
  {
   "cell_type": "markdown",
   "metadata": {
    "editable": true,
    "slideshow": {
     "slide_type": ""
    },
    "tags": []
   },
   "source": [
    "# MetaData Storage Object\n",
    "## Purpose\n",
    "Store all object data other than physical storage\n",
    "\n",
    "## Attributes\n",
    "\n",
    "- id (each source/storage system also calculates its internal id if needed)\n",
    "- hash\n",
    "- object_type - text/pic/etc\n",
    "- mime\n",
    "- description\n",
    "- embeddings[] - list with embeddings\n",
    "- tags[]\n",
    "\n",
    "## Interface\n",
    "To do..."
   ]
  },
  {
   "cell_type": "markdown",
   "metadata": {
    "editable": true,
    "slideshow": {
     "slide_type": ""
    },
    "tags": []
   },
   "source": [
    "# Object Loader??\n",
    "## Purpose\n",
    "Controls ways how to load data to create objects.\n",
    "\n",
    "Use as Proxy?\n",
    "\n",
    "Allow Lazy load?\n",
    "\n",
    "## Attributes\n",
    "\n",
    "- index_loader\n",
    "- storage_loader"
   ]
  },
  {
   "cell_type": "markdown",
   "metadata": {
    "editable": true,
    "slideshow": {
     "slide_type": ""
    },
    "tags": []
   },
   "source": [
    "# Loaded Object v1 , not final\n",
    "## Purpose\n",
    "Fully created objects\n",
    "Separate StorageData and MetaData attributes to allow lazy data load\n",
    "\n",
    "## Attributes\n",
    "\n",
    "- id\n",
    "- data_storage - DataStorageObject\n",
    "- meta_data - MetaDataStorageObject\n",
    "- data_storage_index - DataStorageIndex\n",
    "\n",
    "## Interface\n",
    "- using data/metadata object methods?\n",
    "- update/save() -> ds.save; ds.save_row(self.id), dsi.save(self.id), mds.save_row(self.id)\n",
    "- load() -> ds.load(self,id)\n"
   ]
  },
  {
   "cell_type": "markdown",
   "metadata": {},
   "source": []
  },
  {
   "cell_type": "markdown",
   "metadata": {
    "editable": true,
    "slideshow": {
     "slide_type": ""
    },
    "tags": []
   },
   "source": [
    "# CRUD Data Link (IGNORE FOR NOW)\n",
    "## Purpose\n",
    "\n",
    "Partially abstracted CRUD operations with data\n",
    "Each can be only connected to the one source/table\n",
    "\n",
    "## Atributes\n",
    "-uri\n",
    "?? Depends on type\n",
    "\n",
    "## Interface (TODO: Refactor into CRUD Backend Above)\n",
    "\n",
    "- create(fields, values) \n",
    "- read_all() - read full data, without any selection\n",
    "- read_rows(id, fields, values, **kwargs)\n",
    "- update(id, fields, values)\n",
    "- delete(id)\n",
    "- delete_all()\n",
    "- search_metadata(field, value)\n",
    "\n",
    "## Classes\n",
    "CRUDDataLink - basic abstract\n",
    "CRUDDataLinkJSON - concrete class, testing purposes\n",
    "CRUDDataLinkSQLTABLENAME - concrete class, uses SQLAlchemy, separate class for each table, keep things simpler and interface same for all\n"
   ]
  },
  {
   "cell_type": "markdown",
   "metadata": {
    "editable": true,
    "slideshow": {
     "slide_type": ""
    },
    "tags": []
   },
   "source": [
    "# Data Storage Index (IGNORE FOR NOW)\n",
    "## Purpose\n",
    "Backend DB with mapping/pointers of 'id/hash' to  ['uri', 'load_method']\n",
    "Used only to find/create files for object_id/hash\n",
    "Not configured by user\n",
    "Configured during deployements, change requires migration\n",
    "\n",
    "## Attributes\n",
    "- uri\n",
    "- loaded_index_data\n",
    "\n",
    "## Interface (TODO: Refactor into CRUD Backend Above)\n",
    "TODO\n",
    "\n",
    "## Classes\n",
    "DataStorageIndex - abstract class\n",
    "DataStorageIndexJSON - concrete class for testing mostly, have to load all data to change anything it\n",
    "DataStorageIndexMETHOD -concrete classes...\n",
    "\n"
   ]
  }
 ],
 "metadata": {
  "kernelspec": {
   "display_name": "Python 3 (ipykernel)",
   "language": "python",
   "name": "python3"
  },
  "language_info": {
   "codemirror_mode": {
    "name": "ipython",
    "version": 3
   },
   "file_extension": ".py",
   "mimetype": "text/x-python",
   "name": "python",
   "nbconvert_exporter": "python",
   "pygments_lexer": "ipython3",
   "version": "3.11.11"
  }
 },
 "nbformat": 4,
 "nbformat_minor": 4
}
